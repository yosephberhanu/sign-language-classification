{
 "cells": [
  {
   "cell_type": "markdown",
   "id": "dd20f179",
   "metadata": {},
   "source": [
    "## Sign Langauge Digit Recognition \n",
    "\n",
    "Sign lanaguge digit recognition using CNN\n",
    "Date credit https://github.com/ardamavi/Sign-Language-Digits-Dataset"
   ]
  },
  {
   "cell_type": "code",
   "execution_count": 82,
   "id": "40ae7128",
   "metadata": {},
   "outputs": [
    {
     "name": "stdout",
     "output_type": "stream",
     "text": [
      "Requirement already satisfied: opencv-python in /Users/yoseph/opt/anaconda3/envs/udacity/lib/python3.8/site-packages (4.6.0.66)\n",
      "Requirement already satisfied: scikit-learn in /Users/yoseph/opt/anaconda3/envs/udacity/lib/python3.8/site-packages (1.1.3)\n",
      "Requirement already satisfied: tensorflow in /Users/yoseph/opt/anaconda3/envs/udacity/lib/python3.8/site-packages (2.11.0)\n",
      "Requirement already satisfied: matplotlib in /Users/yoseph/opt/anaconda3/envs/udacity/lib/python3.8/site-packages (3.6.2)\n",
      "Collecting mediapipe\n",
      "  Using cached mediapipe-0.9.0-cp38-cp38-macosx_10_15_x86_64.whl (35.2 MB)\n",
      "Requirement already satisfied: numpy>=1.17.3 in /Users/yoseph/opt/anaconda3/envs/udacity/lib/python3.8/site-packages (from opencv-python) (1.23.5)\n",
      "Requirement already satisfied: threadpoolctl>=2.0.0 in /Users/yoseph/opt/anaconda3/envs/udacity/lib/python3.8/site-packages (from scikit-learn) (3.1.0)\n",
      "Requirement already satisfied: scipy>=1.3.2 in /Users/yoseph/opt/anaconda3/envs/udacity/lib/python3.8/site-packages (from scikit-learn) (1.9.3)\n",
      "Requirement already satisfied: joblib>=1.0.0 in /Users/yoseph/opt/anaconda3/envs/udacity/lib/python3.8/site-packages (from scikit-learn) (1.2.0)\n",
      "Requirement already satisfied: packaging in /Users/yoseph/opt/anaconda3/envs/udacity/lib/python3.8/site-packages (from tensorflow) (21.3)\n",
      "Requirement already satisfied: protobuf<3.20,>=3.9.2 in /Users/yoseph/opt/anaconda3/envs/udacity/lib/python3.8/site-packages (from tensorflow) (3.19.6)\n",
      "Requirement already satisfied: tensorflow-io-gcs-filesystem>=0.23.1 in /Users/yoseph/opt/anaconda3/envs/udacity/lib/python3.8/site-packages (from tensorflow) (0.28.0)\n",
      "Requirement already satisfied: six>=1.12.0 in /Users/yoseph/opt/anaconda3/envs/udacity/lib/python3.8/site-packages (from tensorflow) (1.16.0)\n",
      "Requirement already satisfied: astunparse>=1.6.0 in /Users/yoseph/opt/anaconda3/envs/udacity/lib/python3.8/site-packages (from tensorflow) (1.6.3)\n",
      "Requirement already satisfied: h5py>=2.9.0 in /Users/yoseph/opt/anaconda3/envs/udacity/lib/python3.8/site-packages (from tensorflow) (3.7.0)\n",
      "Requirement already satisfied: gast<=0.4.0,>=0.2.1 in /Users/yoseph/opt/anaconda3/envs/udacity/lib/python3.8/site-packages (from tensorflow) (0.4.0)\n",
      "Requirement already satisfied: google-pasta>=0.1.1 in /Users/yoseph/opt/anaconda3/envs/udacity/lib/python3.8/site-packages (from tensorflow) (0.2.0)\n",
      "Requirement already satisfied: termcolor>=1.1.0 in /Users/yoseph/opt/anaconda3/envs/udacity/lib/python3.8/site-packages (from tensorflow) (2.1.1)\n",
      "Requirement already satisfied: setuptools in /Users/yoseph/opt/anaconda3/envs/udacity/lib/python3.8/site-packages (from tensorflow) (58.0.4)\n",
      "Requirement already satisfied: tensorboard<2.12,>=2.11 in /Users/yoseph/opt/anaconda3/envs/udacity/lib/python3.8/site-packages (from tensorflow) (2.11.0)\n",
      "Requirement already satisfied: keras<2.12,>=2.11.0 in /Users/yoseph/opt/anaconda3/envs/udacity/lib/python3.8/site-packages (from tensorflow) (2.11.0)\n",
      "Requirement already satisfied: opt-einsum>=2.3.2 in /Users/yoseph/opt/anaconda3/envs/udacity/lib/python3.8/site-packages (from tensorflow) (3.3.0)\n",
      "Requirement already satisfied: absl-py>=1.0.0 in /Users/yoseph/opt/anaconda3/envs/udacity/lib/python3.8/site-packages (from tensorflow) (1.3.0)\n",
      "Requirement already satisfied: libclang>=13.0.0 in /Users/yoseph/opt/anaconda3/envs/udacity/lib/python3.8/site-packages (from tensorflow) (14.0.6)\n",
      "Requirement already satisfied: wrapt>=1.11.0 in /Users/yoseph/opt/anaconda3/envs/udacity/lib/python3.8/site-packages (from tensorflow) (1.14.1)\n",
      "Requirement already satisfied: typing-extensions>=3.6.6 in /Users/yoseph/opt/anaconda3/envs/udacity/lib/python3.8/site-packages (from tensorflow) (4.1.1)\n",
      "Requirement already satisfied: tensorflow-estimator<2.12,>=2.11.0 in /Users/yoseph/opt/anaconda3/envs/udacity/lib/python3.8/site-packages (from tensorflow) (2.11.0)\n",
      "Requirement already satisfied: grpcio<2.0,>=1.24.3 in /Users/yoseph/opt/anaconda3/envs/udacity/lib/python3.8/site-packages (from tensorflow) (1.50.0)\n",
      "Requirement already satisfied: flatbuffers>=2.0 in /Users/yoseph/opt/anaconda3/envs/udacity/lib/python3.8/site-packages (from tensorflow) (22.11.23)\n",
      "Requirement already satisfied: contourpy>=1.0.1 in /Users/yoseph/opt/anaconda3/envs/udacity/lib/python3.8/site-packages (from matplotlib) (1.0.6)\n",
      "Requirement already satisfied: kiwisolver>=1.0.1 in /Users/yoseph/opt/anaconda3/envs/udacity/lib/python3.8/site-packages (from matplotlib) (1.4.4)\n",
      "Requirement already satisfied: python-dateutil>=2.7 in /Users/yoseph/opt/anaconda3/envs/udacity/lib/python3.8/site-packages (from matplotlib) (2.8.2)\n",
      "Requirement already satisfied: pyparsing>=2.2.1 in /Users/yoseph/opt/anaconda3/envs/udacity/lib/python3.8/site-packages (from matplotlib) (3.0.4)\n",
      "Requirement already satisfied: pillow>=6.2.0 in /Users/yoseph/opt/anaconda3/envs/udacity/lib/python3.8/site-packages (from matplotlib) (9.3.0)\n",
      "Requirement already satisfied: cycler>=0.10 in /Users/yoseph/opt/anaconda3/envs/udacity/lib/python3.8/site-packages (from matplotlib) (0.11.0)\n",
      "Requirement already satisfied: fonttools>=4.22.0 in /Users/yoseph/opt/anaconda3/envs/udacity/lib/python3.8/site-packages (from matplotlib) (4.38.0)\n",
      "Requirement already satisfied: attrs>=19.1.0 in /Users/yoseph/opt/anaconda3/envs/udacity/lib/python3.8/site-packages (from mediapipe) (21.4.0)\n",
      "Collecting opencv-contrib-python\n",
      "  Downloading opencv_contrib_python-4.6.0.66-cp36-abi3-macosx_10_15_x86_64.whl (56.1 MB)\n",
      "\u001b[K     |████████████████████████████████| 56.1 MB 166 kB/s eta 0:00:01\n",
      "\u001b[?25hRequirement already satisfied: wheel<1.0,>=0.23.0 in /Users/yoseph/opt/anaconda3/envs/udacity/lib/python3.8/site-packages (from astunparse>=1.6.0->tensorflow) (0.37.1)\n",
      "Requirement already satisfied: google-auth-oauthlib<0.5,>=0.4.1 in /Users/yoseph/opt/anaconda3/envs/udacity/lib/python3.8/site-packages (from tensorboard<2.12,>=2.11->tensorflow) (0.4.6)\n",
      "Requirement already satisfied: tensorboard-plugin-wit>=1.6.0 in /Users/yoseph/opt/anaconda3/envs/udacity/lib/python3.8/site-packages (from tensorboard<2.12,>=2.11->tensorflow) (1.8.1)\n",
      "Requirement already satisfied: requests<3,>=2.21.0 in /Users/yoseph/opt/anaconda3/envs/udacity/lib/python3.8/site-packages (from tensorboard<2.12,>=2.11->tensorflow) (2.28.1)\n",
      "Requirement already satisfied: tensorboard-data-server<0.7.0,>=0.6.0 in /Users/yoseph/opt/anaconda3/envs/udacity/lib/python3.8/site-packages (from tensorboard<2.12,>=2.11->tensorflow) (0.6.1)\n",
      "Requirement already satisfied: werkzeug>=1.0.1 in /Users/yoseph/opt/anaconda3/envs/udacity/lib/python3.8/site-packages (from tensorboard<2.12,>=2.11->tensorflow) (2.2.2)\n",
      "Requirement already satisfied: google-auth<3,>=1.6.3 in /Users/yoseph/opt/anaconda3/envs/udacity/lib/python3.8/site-packages (from tensorboard<2.12,>=2.11->tensorflow) (2.14.1)\n",
      "Requirement already satisfied: markdown>=2.6.8 in /Users/yoseph/opt/anaconda3/envs/udacity/lib/python3.8/site-packages (from tensorboard<2.12,>=2.11->tensorflow) (3.4.1)\n",
      "Requirement already satisfied: cachetools<6.0,>=2.0.0 in /Users/yoseph/opt/anaconda3/envs/udacity/lib/python3.8/site-packages (from google-auth<3,>=1.6.3->tensorboard<2.12,>=2.11->tensorflow) (5.2.0)\n",
      "Requirement already satisfied: pyasn1-modules>=0.2.1 in /Users/yoseph/opt/anaconda3/envs/udacity/lib/python3.8/site-packages (from google-auth<3,>=1.6.3->tensorboard<2.12,>=2.11->tensorflow) (0.2.8)\n",
      "Requirement already satisfied: rsa<5,>=3.1.4 in /Users/yoseph/opt/anaconda3/envs/udacity/lib/python3.8/site-packages (from google-auth<3,>=1.6.3->tensorboard<2.12,>=2.11->tensorflow) (4.9)\n",
      "Requirement already satisfied: requests-oauthlib>=0.7.0 in /Users/yoseph/opt/anaconda3/envs/udacity/lib/python3.8/site-packages (from google-auth-oauthlib<0.5,>=0.4.1->tensorboard<2.12,>=2.11->tensorflow) (1.3.1)\n",
      "Requirement already satisfied: importlib-metadata>=4.4 in /Users/yoseph/opt/anaconda3/envs/udacity/lib/python3.8/site-packages (from markdown>=2.6.8->tensorboard<2.12,>=2.11->tensorflow) (5.1.0)\n",
      "Requirement already satisfied: zipp>=0.5 in /Users/yoseph/opt/anaconda3/envs/udacity/lib/python3.8/site-packages (from importlib-metadata>=4.4->markdown>=2.6.8->tensorboard<2.12,>=2.11->tensorflow) (3.8.0)\n",
      "Requirement already satisfied: pyasn1<0.5.0,>=0.4.6 in /Users/yoseph/opt/anaconda3/envs/udacity/lib/python3.8/site-packages (from pyasn1-modules>=0.2.1->google-auth<3,>=1.6.3->tensorboard<2.12,>=2.11->tensorflow) (0.4.8)\n",
      "Requirement already satisfied: charset-normalizer<3,>=2 in /Users/yoseph/opt/anaconda3/envs/udacity/lib/python3.8/site-packages (from requests<3,>=2.21.0->tensorboard<2.12,>=2.11->tensorflow) (2.1.1)\n",
      "Requirement already satisfied: idna<4,>=2.5 in /Users/yoseph/opt/anaconda3/envs/udacity/lib/python3.8/site-packages (from requests<3,>=2.21.0->tensorboard<2.12,>=2.11->tensorflow) (3.4)\n",
      "Requirement already satisfied: certifi>=2017.4.17 in /Users/yoseph/opt/anaconda3/envs/udacity/lib/python3.8/site-packages (from requests<3,>=2.21.0->tensorboard<2.12,>=2.11->tensorflow) (2022.5.18.1)\n",
      "Requirement already satisfied: urllib3<1.27,>=1.21.1 in /Users/yoseph/opt/anaconda3/envs/udacity/lib/python3.8/site-packages (from requests<3,>=2.21.0->tensorboard<2.12,>=2.11->tensorflow) (1.26.13)\n"
     ]
    },
    {
     "name": "stdout",
     "output_type": "stream",
     "text": [
      "Requirement already satisfied: oauthlib>=3.0.0 in /Users/yoseph/opt/anaconda3/envs/udacity/lib/python3.8/site-packages (from requests-oauthlib>=0.7.0->google-auth-oauthlib<0.5,>=0.4.1->tensorboard<2.12,>=2.11->tensorflow) (3.2.2)\n",
      "Requirement already satisfied: MarkupSafe>=2.1.1 in /Users/yoseph/opt/anaconda3/envs/udacity/lib/python3.8/site-packages (from werkzeug>=1.0.1->tensorboard<2.12,>=2.11->tensorflow) (2.1.1)\n",
      "Installing collected packages: opencv-contrib-python, mediapipe\n",
      "Successfully installed mediapipe-0.9.0 opencv-contrib-python-4.6.0.66\n"
     ]
    }
   ],
   "source": [
    "!pip install opencv-python scikit-learn tensorflow matplotlib mediapipe"
   ]
  },
  {
   "cell_type": "markdown",
   "id": "73165584",
   "metadata": {},
   "source": [
    "## 1. Import"
   ]
  },
  {
   "cell_type": "code",
   "execution_count": 1,
   "id": "d1e4c71c",
   "metadata": {},
   "outputs": [
    {
     "name": "stderr",
     "output_type": "stream",
     "text": [
      "2022-11-30 07:11:47.378759: I tensorflow/core/platform/cpu_feature_guard.cc:193] This TensorFlow binary is optimized with oneAPI Deep Neural Network Library (oneDNN) to use the following CPU instructions in performance-critical operations:  AVX2 FMA\n",
      "To enable them in other operations, rebuild TensorFlow with the appropriate compiler flags.\n"
     ]
    }
   ],
   "source": [
    "import os\n",
    "import numpy as np\n",
    "import pandas as pd\n",
    "import cv2\n",
    "import warnings\n",
    "from sklearn.model_selection import train_test_split\n",
    "from sklearn.metrics import confusion_matrix\n",
    "from tensorflow.keras.utils import to_categorical\n",
    "from tensorflow.keras.models import Sequential\n",
    "from tensorflow.keras.layers import Dense, Dropout, Flatten, Conv2D, MaxPool2D\n",
    "from tensorflow.keras.optimizers import RMSprop,Adam\n",
    "from tensorflow.keras.preprocessing.image import ImageDataGenerator\n",
    "from tensorflow.keras.callbacks import ReduceLROnPlateau\n",
    "import matplotlib.pyplot as plt"
   ]
  },
  {
   "cell_type": "code",
   "execution_count": 7,
   "id": "8eb40697",
   "metadata": {},
   "outputs": [],
   "source": [
    "warnings.filterwarnings('ignore')"
   ]
  },
  {
   "cell_type": "markdown",
   "id": "d1dd4203",
   "metadata": {},
   "source": [
    "## 2. Load Data"
   ]
  },
  {
   "cell_type": "code",
   "execution_count": 8,
   "id": "4fc302ee",
   "metadata": {},
   "outputs": [],
   "source": [
    "def load_data(root, categories, image_size = 100):\n",
    "    training_data=[]\n",
    "    for category in categories:\n",
    "        path = os.path.join(root, str(category))\n",
    "        class_num = categories.index(category)\n",
    "        for img in os.listdir(path):\n",
    "            try:\n",
    "                img_array=cv2.imread(os.path.join(path,img))\n",
    "                img_array=cv2.resize(img_array,(image_size, image_size))\n",
    "                training_data.append([img_array, class_num])\n",
    "            except Exception as e:\n",
    "                pass\n",
    "    X=[]\n",
    "    y=[]\n",
    "    for c, label in training_data:\n",
    "        X.append(c)\n",
    "        y.append(label)\n",
    "    return np.array(X).reshape(-1, image_size, image_size, 3), np.array(y).reshape(-1,1)"
   ]
  },
  {
   "cell_type": "code",
   "execution_count": 9,
   "id": "b3932171",
   "metadata": {},
   "outputs": [],
   "source": [
    "X, y = load_data(\"data\", range(10), image_size = 100)"
   ]
  },
  {
   "cell_type": "code",
   "execution_count": 10,
   "id": "bb5d7a9a",
   "metadata": {},
   "outputs": [
    {
     "data": {
      "text/plain": [
       "(2062, 100, 100, 3)"
      ]
     },
     "execution_count": 10,
     "metadata": {},
     "output_type": "execute_result"
    }
   ],
   "source": [
    "X.shape"
   ]
  },
  {
   "cell_type": "code",
   "execution_count": 11,
   "id": "37930e7e",
   "metadata": {},
   "outputs": [
    {
     "data": {
      "text/plain": [
       "(2062, 1)"
      ]
     },
     "execution_count": 11,
     "metadata": {},
     "output_type": "execute_result"
    }
   ],
   "source": [
    "y.shape"
   ]
  },
  {
   "cell_type": "markdown",
   "id": "d7a2cc3f",
   "metadata": {},
   "source": [
    "## 3. Preprocess "
   ]
  },
  {
   "cell_type": "code",
   "execution_count": 12,
   "id": "5084b134",
   "metadata": {},
   "outputs": [
    {
     "name": "stdout",
     "output_type": "stream",
     "text": [
      "Training X shape (1649, 100, 100, 3)\n",
      "Validation X shape (413, 100, 100, 3)\n",
      "Training y shape (1649, 10)\n",
      "Validation y shape (413, 10)\n"
     ]
    }
   ],
   "source": [
    "# one hot encode y\n",
    "y = to_categorical(y)\n",
    "train_X, validation_X, train_y, validation_y = train_test_split(X, y, test_size = 0.2, random_state=2)\n",
    "print(\"Training X shape\",train_X.shape)\n",
    "print(\"Validation X shape\",validation_X.shape)\n",
    "print(\"Training y shape\",train_y.shape)\n",
    "print(\"Validation y shape\",validation_y.shape)"
   ]
  },
  {
   "cell_type": "markdown",
   "id": "ff4fd05e",
   "metadata": {},
   "source": [
    "## 4. Train"
   ]
  },
  {
   "cell_type": "code",
   "execution_count": 13,
   "id": "769235ff",
   "metadata": {},
   "outputs": [
    {
     "name": "stderr",
     "output_type": "stream",
     "text": [
      "2022-11-29 20:29:04.726568: I tensorflow/core/platform/cpu_feature_guard.cc:193] This TensorFlow binary is optimized with oneAPI Deep Neural Network Library (oneDNN) to use the following CPU instructions in performance-critical operations:  AVX2 FMA\n",
      "To enable them in other operations, rebuild TensorFlow with the appropriate compiler flags.\n"
     ]
    }
   ],
   "source": [
    "epochs = 23\n",
    "batch_size = 16\n",
    "\n",
    "model = Sequential()\n",
    "#\n",
    "model.add(Conv2D(filters = 32, kernel_size = (6,6), padding = 'Same', \n",
    "                 activation ='relu', input_shape = (100,100,3)))\n",
    "model.add(MaxPool2D(pool_size=(4,4)))\n",
    "model.add(Dropout(0.2))\n",
    "#\n",
    "model.add(Conv2D(filters = 64, kernel_size = (4,4),padding = 'Same', \n",
    "                 activation ='relu'))\n",
    "model.add(MaxPool2D(pool_size=(3,3), strides=(3,3)))\n",
    "model.add(Dropout(0.2))\n",
    "#\n",
    "model.add(Conv2D(filters =128 , kernel_size = (3,3),padding = 'Same', \n",
    "                 activation ='relu'))\n",
    "model.add(MaxPool2D(pool_size=(2,2), strides=(2,2)))\n",
    "model.add(Dropout(0.2))\n",
    "# fully connected\n",
    "\n",
    "model.add(Flatten())\n",
    "model.add(Dropout(0.2))\n",
    "model.add(Dense(512, activation = \"relu\"))\n",
    "model.add(Dense(256, activation = \"relu\"))\n",
    "model.add(Dense(128, activation = \"relu\"))\n",
    "model.add(Dense(10, activation='softmax'))\n",
    "\n",
    "# Compile the model\n",
    "model.compile(loss= 'categorical_crossentropy', optimizer='adam', metrics=['accuracy'])"
   ]
  },
  {
   "cell_type": "code",
   "execution_count": 14,
   "id": "2ec8dd1b",
   "metadata": {},
   "outputs": [
    {
     "name": "stdout",
     "output_type": "stream",
     "text": [
      "Epoch 1/23\n",
      "104/104 [==============================] - 10s 87ms/step - loss: 4.4011 - accuracy: 0.1468 - val_loss: 2.1605 - val_accuracy: 0.1792\n",
      "Epoch 2/23\n",
      "104/104 [==============================] - 9s 90ms/step - loss: 1.4874 - accuracy: 0.4439 - val_loss: 0.9438 - val_accuracy: 0.6586\n",
      "Epoch 3/23\n",
      "104/104 [==============================] - 10s 95ms/step - loss: 0.8990 - accuracy: 0.6701 - val_loss: 0.6703 - val_accuracy: 0.8111\n",
      "Epoch 4/23\n",
      "104/104 [==============================] - 10s 99ms/step - loss: 0.7001 - accuracy: 0.7641 - val_loss: 0.4820 - val_accuracy: 0.8523\n",
      "Epoch 5/23\n",
      "104/104 [==============================] - 10s 94ms/step - loss: 0.5672 - accuracy: 0.7993 - val_loss: 0.3934 - val_accuracy: 0.8983\n",
      "Epoch 6/23\n",
      "104/104 [==============================] - 11s 102ms/step - loss: 0.4877 - accuracy: 0.8363 - val_loss: 0.3242 - val_accuracy: 0.8983\n",
      "Epoch 7/23\n",
      "104/104 [==============================] - 11s 102ms/step - loss: 0.4077 - accuracy: 0.8569 - val_loss: 0.3169 - val_accuracy: 0.9225\n",
      "Epoch 8/23\n",
      "104/104 [==============================] - 9s 89ms/step - loss: 0.3715 - accuracy: 0.8775 - val_loss: 0.2306 - val_accuracy: 0.9298\n",
      "Epoch 9/23\n",
      "104/104 [==============================] - 10s 94ms/step - loss: 0.3958 - accuracy: 0.8684 - val_loss: 0.1749 - val_accuracy: 0.9540\n",
      "Epoch 10/23\n",
      "104/104 [==============================] - 9s 88ms/step - loss: 0.3066 - accuracy: 0.8945 - val_loss: 0.2636 - val_accuracy: 0.9128\n",
      "Epoch 11/23\n",
      "104/104 [==============================] - 10s 99ms/step - loss: 0.3251 - accuracy: 0.8878 - val_loss: 0.1903 - val_accuracy: 0.9395\n",
      "Epoch 12/23\n",
      "104/104 [==============================] - 10s 93ms/step - loss: 0.2460 - accuracy: 0.9115 - val_loss: 0.1909 - val_accuracy: 0.9492\n",
      "Epoch 13/23\n",
      "104/104 [==============================] - 10s 97ms/step - loss: 0.2474 - accuracy: 0.9121 - val_loss: 0.1651 - val_accuracy: 0.9540\n",
      "Epoch 14/23\n",
      "104/104 [==============================] - 9s 91ms/step - loss: 0.2621 - accuracy: 0.9157 - val_loss: 0.1438 - val_accuracy: 0.9661\n",
      "Epoch 15/23\n",
      "104/104 [==============================] - 11s 105ms/step - loss: 0.2223 - accuracy: 0.9218 - val_loss: 0.1677 - val_accuracy: 0.9443\n",
      "Epoch 16/23\n",
      "104/104 [==============================] - 10s 94ms/step - loss: 0.2117 - accuracy: 0.9333 - val_loss: 0.1332 - val_accuracy: 0.9685\n",
      "Epoch 17/23\n",
      "104/104 [==============================] - 11s 103ms/step - loss: 0.1825 - accuracy: 0.9394 - val_loss: 0.1355 - val_accuracy: 0.9637\n",
      "Epoch 18/23\n",
      "104/104 [==============================] - 12s 117ms/step - loss: 0.2558 - accuracy: 0.9272 - val_loss: 0.1360 - val_accuracy: 0.9564\n",
      "Epoch 19/23\n",
      "104/104 [==============================] - 11s 104ms/step - loss: 0.2114 - accuracy: 0.9309 - val_loss: 0.1453 - val_accuracy: 0.9564\n",
      "Epoch 20/23\n",
      "104/104 [==============================] - 10s 93ms/step - loss: 0.1719 - accuracy: 0.9424 - val_loss: 0.1495 - val_accuracy: 0.9516\n",
      "Epoch 21/23\n",
      "104/104 [==============================] - 9s 89ms/step - loss: 0.2046 - accuracy: 0.9315 - val_loss: 0.1403 - val_accuracy: 0.9540\n",
      "Epoch 22/23\n",
      "104/104 [==============================] - 10s 92ms/step - loss: 0.1769 - accuracy: 0.9418 - val_loss: 0.1117 - val_accuracy: 0.9709\n",
      "Epoch 23/23\n",
      "104/104 [==============================] - 9s 89ms/step - loss: 0.1529 - accuracy: 0.9521 - val_loss: 0.1111 - val_accuracy: 0.9734\n"
     ]
    }
   ],
   "source": [
    "history = model.fit(train_X, train_y, epochs = epochs, validation_data = (validation_X,validation_y), batch_size = batch_size)"
   ]
  },
  {
   "cell_type": "markdown",
   "id": "eb319701",
   "metadata": {},
   "source": [
    "## 5. Evaluate"
   ]
  },
  {
   "cell_type": "code",
   "execution_count": 15,
   "id": "2ccd71eb",
   "metadata": {},
   "outputs": [
    {
     "data": {
      "image/png": "[encoded data removed]",
      "text/plain": [
       "<Figure size 432x288 with 1 Axes>"
      ]
     },
     "metadata": {
      "needs_background": "light"
     },
     "output_type": "display_data"
    }
   ],
   "source": [
    "plt.plot(history.history['val_loss'], color='b', label=\"validation loss\")\n",
    "plt.title(\"Test Loss\")\n",
    "plt.xlabel(\"Number of Epochs\")\n",
    "plt.ylabel(\"Loss\")\n",
    "plt.legend()\n",
    "plt.show()"
   ]
  },
  {
   "cell_type": "code",
   "execution_count": 16,
   "id": "80565758",
   "metadata": {},
   "outputs": [
    {
     "name": "stdout",
     "output_type": "stream",
     "text": [
      "accuracy: 97.34%\n"
     ]
    }
   ],
   "source": [
    "scores = model.evaluate(validation_X, validation_y, verbose=0)\n",
    "print(\"{}: {:.2f}%\".format(\"accuracy\", scores[1]*100))"
   ]
  },
  {
   "cell_type": "code",
   "execution_count": 17,
   "id": "bd3b7c7b",
   "metadata": {},
   "outputs": [
    {
     "name": "stdout",
     "output_type": "stream",
     "text": [
      "1/1 [==============================] - 0s 101ms/step\n",
      "3 => 3\n",
      "1/1 [==============================] - 0s 17ms/step\n",
      "3 => 3\n",
      "1/1 [==============================] - 0s 18ms/step\n",
      "3 => 4\n",
      "1/1 [==============================] - 0s 18ms/step\n",
      "0 => 0\n",
      "1/1 [==============================] - 0s 17ms/step\n",
      "2 => 2\n"
     ]
    }
   ],
   "source": [
    "# train_X[0:1].shape\n",
    "print(\"{} => {}\".format(np.argmax(train_y[0]),np.argmax(model.predict(train_X[0:1]))))\n",
    "print(\"{} => {}\".format(np.argmax(train_y[104]),np.argmax(model.predict(train_X[104:105]))))\n",
    "print(\"{} => {}\".format(np.argmax(train_y[440]),np.argmax(model.predict(train_X[400:401]))))\n",
    "print(\"{} => {}\".format(np.argmax(train_y[550]),np.argmax(model.predict(train_X[550:551]))))\n",
    "print(\"{} => {}\".format(np.argmax(train_y[1204]),np.argmax(model.predict(train_X[1204:1205]))))"
   ]
  },
  {
   "cell_type": "code",
   "execution_count": 20,
   "id": "0804852f",
   "metadata": {},
   "outputs": [
    {
     "name": "stderr",
     "output_type": "stream",
     "text": [
      "WARNING:absl:Found untraced functions such as _jit_compiled_convolution_op, _jit_compiled_convolution_op, _jit_compiled_convolution_op, _update_step_xla while saving (showing 4 of 4). These functions will not be directly callable after loading.\n"
     ]
    },
    {
     "name": "stdout",
     "output_type": "stream",
     "text": [
      "INFO:tensorflow:Assets written to: model/assets\n"
     ]
    },
    {
     "name": "stderr",
     "output_type": "stream",
     "text": [
      "INFO:tensorflow:Assets written to: model/assets\n"
     ]
    }
   ],
   "source": [
    "model.save('model')"
   ]
  }
 ],
 "metadata": {
  "kernelspec": {
   "display_name": "Python 3 (ipykernel)",
   "language": "python",
   "name": "python3"
  },
  "language_info": {
   "codemirror_mode": {
    "name": "ipython",
    "version": 3
   },
   "file_extension": ".py",
   "mimetype": "text/x-python",
   "name": "python",
   "nbconvert_exporter": "python",
   "pygments_lexer": "ipython3",
   "version": "3.8.12"
  }
 },
 "nbformat": 4,
 "nbformat_minor": 5
}
